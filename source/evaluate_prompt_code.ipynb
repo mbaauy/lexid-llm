{
 "cells": [
  {
   "cell_type": "code",
   "execution_count": 28,
   "id": "1f78bc67",
   "metadata": {},
   "outputs": [],
   "source": [
    "import pandas as pd\n",
    "import re\n",
    "\n",
    "from tqdm import tqdm\n",
    "from datasets import load_from_disk\n",
    "from rdflib.namespace import XSD, RDFS, RDF, OWL\n",
    "from rdflib import Graph, Namespace, Literal"
   ]
  },
  {
   "cell_type": "code",
   "execution_count": 2,
   "id": "a2d0f40e",
   "metadata": {},
   "outputs": [],
   "source": [
    "prefix = '''@prefix xsd: <http://www.w3.org/2001/XMLSchema#> .\n",
    "@prefix rdfs: <http://www.w3.org/2000/01/rdf-schema#> .\n",
    "@prefix rdf: <http://www.w3.org/1999/02/22-rdf-syntax-ns#> .\n",
    "@prefix dbo: <http://dbpedia.org/ontology/> .\n",
    "@prefix dct: <http://purl.org/dc/terms/> .\n",
    "@prefix owl: <http://www.w3.org/2002/07/owl#> .\n",
    "@prefix wd: <https://www.wikidata.org/wiki/> .\n",
    "@prefix lexid-s: <https://w3id.org/lex-id/schema/> .\n",
    "@prefix lexid: <https://w3id.org/lex-id/data/> .\n",
    "\n",
    "'''"
   ]
  },
  {
   "cell_type": "code",
   "execution_count": 4,
   "id": "e503224e",
   "metadata": {},
   "outputs": [],
   "source": [
    "def is_valid_ttl(triple_str):\n",
    "    g = Graph()\n",
    "    DBO = Namespace(\"http://dbpedia.org/ontology/\")\n",
    "    DCT = Namespace(\"http://purl.org/dc/terms/\")\n",
    "    WD = Namespace(\"https://www.wikidata.org/wiki/\")\n",
    "    LEXID_S = Namespace(\"https://w3id.org/lex-id/schema/\")\n",
    "    LEXID = Namespace(\"https://w3id.org/lex-id/data/\")\n",
    "\n",
    "    g.bind(\"xsd\", XSD)\n",
    "    g.bind(\"rdfs\", RDFS)\n",
    "    g.bind(\"rdf\", RDF)\n",
    "    g.bind(\"dbo\", DBO)\n",
    "    g.bind(\"dct\", DCT)\n",
    "    g.bind(\"owl\", OWL)\n",
    "    g.bind(\"wd\", WD)\n",
    "    g.bind(\"lexid-s\", LEXID_S)\n",
    "    g.bind(\"lexid\", LEXID)\n",
    "    \n",
    "    try:\n",
    "        g.parse(data=triple_str, format=\"turtle\")\n",
    "        return True\n",
    "    except:\n",
    "        return False"
   ]
  },
  {
   "cell_type": "code",
   "execution_count": 60,
   "id": "1e07f8a1",
   "metadata": {},
   "outputs": [],
   "source": [
    "def evaluate_ttl(ttl_pred, ttl_gold):\n",
    "    g_pred = Graph()\n",
    "    g_pred.parse(data=ttl_pred, format=\"turtle\")\n",
    "\n",
    "    g_gold = Graph()\n",
    "    g_gold.parse(data=ttl_gold, format=\"turtle\")\n",
    "\n",
    "    g_pred_total = len(g_pred)\n",
    "    g_gold_total = len(g_gold)\n",
    "\n",
    "    tp = len(set(g_pred).intersection(set(g_gold)))\n",
    "\n",
    "    fp = g_pred_total - tp\n",
    "    fn = g_gold_total - tp\n",
    "    \n",
    "    if tp + fp == 0:\n",
    "        p = 0\n",
    "    else:\n",
    "        p = round(tp / (tp + fp), 3)\n",
    "        \n",
    "    if tp + fn == 0:\n",
    "        r = 0\n",
    "    else:\n",
    "        r = round(tp / (tp + fn), 3)\n",
    "    \n",
    "    if p + r == 0:\n",
    "        f1 = 0\n",
    "    else:\n",
    "        f1 = round((2 * p * r)/ (p + r), 3)\n",
    "    \n",
    "    return tp, fp, fn, p, r, f1"
   ]
  },
  {
   "cell_type": "code",
   "execution_count": 59,
   "id": "839b42b1",
   "metadata": {},
   "outputs": [],
   "source": [
    "def literals_case_insensitive_equal(lit1, lit2):\n",
    "    return str(lit1).lower() == str(lit2).lower()\n",
    "\n",
    "def triple_case_insensitive_equal(triple1, triple2):\n",
    "    return (\n",
    "        triple1[0] == triple2[0] and\n",
    "        triple1[1] == triple2[1] and\n",
    "        (\n",
    "            (isinstance(triple1[2], Literal) and isinstance(triple2[2], Literal) and literals_case_insensitive_equal(triple1[2], triple2[2])) or\n",
    "            (not isinstance(triple1[2], Literal) and not isinstance(triple2[2], Literal) and triple1[2] == triple2[2])\n",
    "        )\n",
    "    )\n",
    "\n",
    "def evaluate_ttl_case_insensitive(ttl_pred, ttl_gold):\n",
    "    g_pred = Graph()\n",
    "    g_pred.parse(data=ttl_pred, format=\"turtle\")\n",
    "\n",
    "    g_gold = Graph()\n",
    "    g_gold.parse(data=ttl_gold, format=\"turtle\")\n",
    "\n",
    "    g_pred_total = len(g_pred)\n",
    "    g_gold_total = len(g_gold)\n",
    "\n",
    "    tp = 0\n",
    "    for triple in g_pred:\n",
    "        if any(triple_case_insensitive_equal(triple, gold_triple) for gold_triple in g_gold):\n",
    "            tp += 1\n",
    "\n",
    "    fp = g_pred_total - tp\n",
    "    fn = g_gold_total - tp\n",
    "\n",
    "    if tp + fp == 0:\n",
    "        p = 0\n",
    "    else:\n",
    "        p = round(tp / (tp + fp), 3)\n",
    "        \n",
    "    if tp + fn == 0:\n",
    "        r = 0\n",
    "    else:\n",
    "        r = round(tp / (tp + fn), 3)\n",
    "    \n",
    "    if p + r == 0:\n",
    "        f1 = 0\n",
    "    else:\n",
    "        f1 = round((2 * p * r) / (p + r), 3)\n",
    "    \n",
    "    return tp, fp, fn, p, r, f1"
   ]
  },
  {
   "cell_type": "code",
   "execution_count": 62,
   "id": "6ec3cb51",
   "metadata": {},
   "outputs": [],
   "source": [
    "def test_1(name, df, dataset, shot, results, part):\n",
    "    print('tes')\n",
    "    \n",
    "    cnt = 0\n",
    "    tp_s = 0\n",
    "    fp_s = 0\n",
    "    fn_s = 0\n",
    "    tp_i = 0\n",
    "    fp_i = 0\n",
    "    fn_i = 0\n",
    "    \n",
    "    for i in range(len(df)):\n",
    "        reg = df.at[i, 'regulatory']\n",
    "        ttl_pred = df.at[i, f'ttl_{shot}']\n",
    "        ttl_test = prefix + dataset[i]['triples']\n",
    "        \n",
    "        tp, fp, fn, p, r, f1 = evaluate_ttl(ttl_pred, ttl_test)\n",
    "        tp_s += tp\n",
    "        fp_s += fp\n",
    "        fn_s += fn\n",
    "        \n",
    "        results.at[i, 'regulatory'] = reg\n",
    "        results.at[i, f'{name}_s_p_{shot}'] = p\n",
    "        results.at[i, f'{name}_s_r_{shot}'] = r\n",
    "        results.at[i, f'{name}_s_f1_{shot}'] = f1\n",
    "        \n",
    "        print(cnt, reg)\n",
    "        print(f'Case Sensitive   : P: {p} || R: {r} || F1: {f1}')     \n",
    "        \n",
    "        tp, fp, fn, p, r, f1 = evaluate_ttl_case_insensitive(ttl_pred, ttl_test)\n",
    "        tp_i += tp\n",
    "        fp_i += fp\n",
    "        fn_i += fn\n",
    "        \n",
    "        results.at[i, 'regulatory'] = reg\n",
    "        results.at[i, f'{name}_i_p_{shot}'] = p\n",
    "        results.at[i, f'{name}_i_r_{shot}'] = r\n",
    "        results.at[i, f'{name}_i_f1_{shot}'] = f1\n",
    "        \n",
    "        print(f'Case Insensitive : P: {p} || R: {r} || F1: {f1}') \n",
    "        \n",
    "        cnt += 1\n",
    "        \n",
    "        if cnt % 100 == 0:\n",
    "            results.to_csv(f'results/{part}_metrics_code.csv')\n",
    "            \n",
    "    results.to_csv(f'results/{part}_metrics_code.csv')\n",
    "        \n",
    "    p_s = round(tp_s / (tp_s + fp_s), 3)\n",
    "    r_s = round(tp_s / (tp_s + fn_s), 3)\n",
    "    f1_s = round((2 * p_s * r_s)/ (p_s + r_s), 3)\n",
    "    \n",
    "    p_i = round(tp_i / (tp_i + fp_i), 3)\n",
    "    r_i = round(tp_i / (tp_i + fn_i), 3)\n",
    "    f1_i = round((2 * p_i * r_i)/ (p_i + r_i), 3)\n",
    "    \n",
    "    print()\n",
    "    print('####################################################')\n",
    "    print()\n",
    "    print(f'{name} {shot} Shot')\n",
    "\n",
    "    print()\n",
    "    print('Case Sensitive')\n",
    "    print(f'Precision: {p_s}')    \n",
    "    print(f'Recall: {r_s}')              \n",
    "    print(f'F1 Score: {f1_s}') \n",
    "    \n",
    "    print()\n",
    "    print('Case Insensitive')\n",
    "    print(f'Precision: {p_i}')    \n",
    "    print(f'Recall: {r_i}')              \n",
    "    print(f'F1 Score: {f1_i}') "
   ]
  },
  {
   "cell_type": "markdown",
   "id": "20539924",
   "metadata": {},
   "source": [
    "# Closing"
   ]
  },
  {
   "cell_type": "code",
   "execution_count": 61,
   "id": "51cc4944",
   "metadata": {},
   "outputs": [],
   "source": [
    "results = pd.DataFrame()\n",
    "results = pd.DataFrame(columns=['regulatory'\n",
    "                                , 'ccg_s_p_1'\n",
    "                                , 'ccg_s_r_1'\n",
    "                                , 'ccg_s_f1_1'\n",
    "                                , 'ccg_s_p_2'\n",
    "                                , 'ccg_s_r_2'\n",
    "                                , 'ccg_s_f1_2'\n",
    "                                , 'ccl_s_p_1'\n",
    "                                , 'ccl_s_r_1'\n",
    "                                , 'ccl_s_f1_1'\n",
    "                                , 'ccl_s_p_2'\n",
    "                                , 'ccl_s_r_2'\n",
    "                                , 'ccl_s_f1_2'\n",
    "                                , 'ccp_s_p_1'\n",
    "                                , 'ccp_s_r_1'\n",
    "                                , 'ccp_s_f1_1'\n",
    "                                , 'ccp_s_p_2'\n",
    "                                , 'ccp_s_r_2'\n",
    "                                , 'ccp_s_f1_2'\n",
    "                                , 'ccg_i_p_1'\n",
    "                                , 'ccg_i_r_1'\n",
    "                                , 'ccg_i_f1_1'\n",
    "                                , 'ccg_i_p_2'\n",
    "                                , 'ccg_i_r_2'\n",
    "                                , 'ccg_i_f1_2'\n",
    "                                , 'ccl_i_p_1'\n",
    "                                , 'ccl_i_r_1'\n",
    "                                , 'ccl_i_f1_1'\n",
    "                                , 'ccl_i_p_2'\n",
    "                                , 'ccl_i_r_2'\n",
    "                                , 'ccl_i_f1_2'\n",
    "                                , 'ccp_i_p_1'\n",
    "                                , 'ccp_i_r_1'\n",
    "                                , 'ccp_i_f1_1'\n",
    "                                , 'ccp_i_p_2'\n",
    "                                , 'ccp_i_r_2'\n",
    "                                , 'ccp_i_f1_2'\n",
    "                               ])"
   ]
  },
  {
   "cell_type": "code",
   "execution_count": 63,
   "id": "88c75539",
   "metadata": {},
   "outputs": [],
   "source": [
    "test_closing_name = \"dataset-surface-info/new-closing/new-closing-1\"\n",
    "test_closing = load_from_disk(test_closing_name)"
   ]
  },
  {
   "cell_type": "code",
   "execution_count": 64,
   "id": "58a402b8",
   "metadata": {},
   "outputs": [],
   "source": [
    "cc_gemma = pd.read_csv('results/new/CC_gemma_post.csv')\n",
    "cc_llama = pd.read_csv('results/new/CC_llama_post.csv')\n",
    "cc_phi = pd.read_csv('results/new/CC_phi_post.csv')"
   ]
  },
  {
   "cell_type": "code",
   "execution_count": null,
   "id": "25711a5b",
   "metadata": {},
   "outputs": [],
   "source": [
    "test_1('ccg', cc_gemma, test_closing, '1', results, 'cc')"
   ]
  },
  {
   "cell_type": "code",
   "execution_count": null,
   "id": "448ed25e",
   "metadata": {},
   "outputs": [],
   "source": [
    "test_1('ccg', cc_gemma, test_closing, '2', results, 'cc')"
   ]
  },
  {
   "cell_type": "code",
   "execution_count": null,
   "id": "b594a8b9",
   "metadata": {},
   "outputs": [],
   "source": [
    "test_1('ccl', cc_llama, test_closing, '1', results, 'cc')"
   ]
  },
  {
   "cell_type": "code",
   "execution_count": null,
   "id": "5d925a48",
   "metadata": {},
   "outputs": [],
   "source": [
    "test_1('ccl', cc_llama, test_closing, '2', results, 'cc')"
   ]
  },
  {
   "cell_type": "code",
   "execution_count": null,
   "id": "0d01a355",
   "metadata": {},
   "outputs": [],
   "source": [
    "test_1('ccp', cc_phi, test_closing, '1', results, 'cc')"
   ]
  },
  {
   "cell_type": "code",
   "execution_count": null,
   "id": "41dd7510",
   "metadata": {},
   "outputs": [],
   "source": [
    "test_1('ccp', cc_phi, test_closing, '2', results, 'cc')"
   ]
  },
  {
   "cell_type": "markdown",
   "id": "84a11b05",
   "metadata": {},
   "source": [
    "# Opening"
   ]
  },
  {
   "cell_type": "code",
   "execution_count": 72,
   "id": "a12c2cce",
   "metadata": {},
   "outputs": [],
   "source": [
    "results = pd.DataFrame()\n",
    "results = pd.DataFrame(columns=['regulatory'\n",
    "                                , 'ocg_s_p_1'\n",
    "                                , 'ocg_s_r_1'\n",
    "                                , 'ocg_s_f1_1'\n",
    "                                , 'ocg_s_p_2'\n",
    "                                , 'ocg_s_r_2'\n",
    "                                , 'ocg_s_f1_2'\n",
    "                                , 'ocl_s_p_1'\n",
    "                                , 'ocl_s_r_1'\n",
    "                                , 'ocl_s_f1_1'\n",
    "                                , 'ocl_s_p_2'\n",
    "                                , 'ocl_s_r_2'\n",
    "                                , 'ocl_s_f1_2'\n",
    "                                , 'ocp_s_p_1'\n",
    "                                , 'ocp_s_r_1'\n",
    "                                , 'ocp_s_f1_1'\n",
    "                                , 'ocp_s_p_2'\n",
    "                                , 'ocp_s_r_2'\n",
    "                                , 'ocp_s_f1_2'\n",
    "                                , 'ocg_i_p_1'\n",
    "                                , 'ocg_i_r_1'\n",
    "                                , 'ocg_i_f1_1'\n",
    "                                , 'ocg_i_p_2'\n",
    "                                , 'ocg_i_r_2'\n",
    "                                , 'ocg_i_f1_2'\n",
    "                                , 'ocl_i_p_1'\n",
    "                                , 'ocl_i_r_1'\n",
    "                                , 'ocl_i_f1_1'\n",
    "                                , 'ocl_i_p_2'\n",
    "                                , 'ocl_i_r_2'\n",
    "                                , 'ocl_i_f1_2'\n",
    "                                , 'ocp_i_p_1'\n",
    "                                , 'ocp_i_r_1'\n",
    "                                , 'ocp_i_f1_1'\n",
    "                                , 'ocp_i_p_2'\n",
    "                                , 'ocp_i_r_2'\n",
    "                                , 'ocp_i_f1_2'\n",
    "                               ])"
   ]
  },
  {
   "cell_type": "code",
   "execution_count": 73,
   "id": "d697a3dc",
   "metadata": {},
   "outputs": [],
   "source": [
    "test_opening_name = \"dataset-surface-info/new-opening/new-opening-1\"\n",
    "test_opening = load_from_disk(test_opening_name)"
   ]
  },
  {
   "cell_type": "code",
   "execution_count": 104,
   "id": "58f993e2",
   "metadata": {},
   "outputs": [],
   "source": [
    "oc_gemma = pd.read_csv('results/new/OC_gemma_post.csv')\n",
    "oc_llama = pd.read_csv('results/new/OC_llama_post.csv')\n",
    "oc_phi = pd.read_csv('results/new/OC_phi_post.csv')"
   ]
  },
  {
   "cell_type": "code",
   "execution_count": null,
   "id": "f40ad37c",
   "metadata": {},
   "outputs": [],
   "source": [
    "test_1('ocg', oc_gemma, test_opening, '1', results, 'oc')"
   ]
  },
  {
   "cell_type": "code",
   "execution_count": null,
   "id": "3e887a7b",
   "metadata": {},
   "outputs": [],
   "source": [
    "test_1('ocg', oc_gemma, test_opening, '2', results, 'oc')"
   ]
  },
  {
   "cell_type": "code",
   "execution_count": null,
   "id": "80465de9",
   "metadata": {},
   "outputs": [],
   "source": [
    "test_1('ocl', oc_llama, test_opening, '1', results, 'oc')"
   ]
  },
  {
   "cell_type": "code",
   "execution_count": null,
   "id": "a417b4f7",
   "metadata": {},
   "outputs": [],
   "source": [
    "test_1('ocl', oc_llama, test_opening, '2', results, 'oc')"
   ]
  },
  {
   "cell_type": "code",
   "execution_count": null,
   "id": "97c53db8",
   "metadata": {},
   "outputs": [],
   "source": [
    "test_1('ocp', oc_phi, test_opening, '1', results, 'oc')"
   ]
  },
  {
   "cell_type": "code",
   "execution_count": null,
   "id": "3da55ae4",
   "metadata": {},
   "outputs": [],
   "source": [
    "test_1('ocp', oc_phi, test_opening, '2', results, 'oc')"
   ]
  },
  {
   "cell_type": "markdown",
   "id": "a86d2863",
   "metadata": {},
   "source": [
    "# Body"
   ]
  },
  {
   "cell_type": "code",
   "execution_count": 92,
   "id": "63e49e9b",
   "metadata": {},
   "outputs": [],
   "source": [
    "results = pd.DataFrame()\n",
    "results = pd.DataFrame(columns=['regulatory'\n",
    "                                , 'bcg_s_p_1'\n",
    "                                , 'bcg_s_r_1'\n",
    "                                , 'bcg_s_f1_1'\n",
    "                                , 'bcg_s_p_2'\n",
    "                                , 'bcg_s_r_2'\n",
    "                                , 'bcg_s_f1_2'\n",
    "                                , 'bcl_s_p_1'\n",
    "                                , 'bcl_s_r_1'\n",
    "                                , 'bcl_s_f1_1'\n",
    "                                , 'bcl_s_p_2'\n",
    "                                , 'bcl_s_r_2'\n",
    "                                , 'bcl_s_f1_2'\n",
    "                                , 'bcp_s_p_1'\n",
    "                                , 'bcp_s_r_1'\n",
    "                                , 'bcp_s_f1_1'\n",
    "                                , 'bcp_s_p_2'\n",
    "                                , 'bcp_s_r_2'\n",
    "                                , 'bcp_s_f1_2'\n",
    "                                , 'bcg_i_p_1'\n",
    "                                , 'bcg_i_r_1'\n",
    "                                , 'bcg_i_f1_1'\n",
    "                                , 'bcg_i_p_2'\n",
    "                                , 'bcg_i_r_2'\n",
    "                                , 'bcg_i_f1_2'\n",
    "                                , 'bcl_i_p_1'\n",
    "                                , 'bcl_i_r_1'\n",
    "                                , 'bcl_i_f1_1'\n",
    "                                , 'bcl_i_p_2'\n",
    "                                , 'bcl_i_r_2'\n",
    "                                , 'bcl_i_f1_2'\n",
    "                                , 'bcp_i_p_1'\n",
    "                                , 'bcp_i_r_1'\n",
    "                                , 'bcp_i_f1_1'\n",
    "                                , 'bcp_i_p_2'\n",
    "                                , 'bcp_i_r_2'\n",
    "                                , 'bcp_i_f1_2'\n",
    "                               ])"
   ]
  },
  {
   "cell_type": "code",
   "execution_count": 93,
   "id": "8bc41bfd",
   "metadata": {},
   "outputs": [],
   "source": [
    "test_body_name = \"dataset-surface-info/body-struktur/body-struktur-1\"\n",
    "test_body = load_from_disk(test_body_name)"
   ]
  },
  {
   "cell_type": "code",
   "execution_count": 99,
   "id": "14c9f9d3",
   "metadata": {},
   "outputs": [],
   "source": [
    "bc_gemma = pd.read_csv('results/new/BC_gemma_post.csv')\n",
    "bc_llama = pd.read_csv('results/new/BC_llama_post.csv')\n",
    "bc_phi = pd.read_csv('results/new/BC_phi_post.csv')"
   ]
  },
  {
   "cell_type": "code",
   "execution_count": null,
   "id": "f4273fca",
   "metadata": {},
   "outputs": [],
   "source": [
    "test_1('bcg', bc_gemma, test_body, '1', results, 'bc')"
   ]
  },
  {
   "cell_type": "code",
   "execution_count": null,
   "id": "949ca612",
   "metadata": {},
   "outputs": [],
   "source": [
    "test_1('bcg', bc_gemma, test_body, '2', results, 'bc')"
   ]
  },
  {
   "cell_type": "code",
   "execution_count": null,
   "id": "056e690e",
   "metadata": {},
   "outputs": [],
   "source": [
    "test_1('bcl', bc_llama, test_body, '1', results, 'bc')"
   ]
  },
  {
   "cell_type": "code",
   "execution_count": null,
   "id": "99978656",
   "metadata": {},
   "outputs": [],
   "source": [
    "test_1('bcl', bc_llama, test_body, '2', results, 'bc')"
   ]
  },
  {
   "cell_type": "code",
   "execution_count": null,
   "id": "3dac054f",
   "metadata": {},
   "outputs": [],
   "source": [
    "test_1('bcp', bc_phi, test_body, '1', results, 'bc')"
   ]
  },
  {
   "cell_type": "code",
   "execution_count": null,
   "id": "56f9b271",
   "metadata": {},
   "outputs": [],
   "source": [
    "test_1('bcp', bc_phi, test_body, '2', results, 'bc')"
   ]
  }
 ],
 "metadata": {
  "kernelspec": {
   "display_name": "Python 3 (ipykernel)",
   "language": "python",
   "name": "python3"
  },
  "language_info": {
   "codemirror_mode": {
    "name": "ipython",
    "version": 3
   },
   "file_extension": ".py",
   "mimetype": "text/x-python",
   "name": "python",
   "nbconvert_exporter": "python",
   "pygments_lexer": "ipython3",
   "version": "3.10.12"
  }
 },
 "nbformat": 4,
 "nbformat_minor": 5
}
